{
 "cells": [
  {
   "cell_type": "code",
   "execution_count": 4,
   "metadata": {
    "collapsed": false
   },
   "outputs": [
    {
     "name": "stdout",
     "output_type": "stream",
     "text": [
      "Importing Libraries...\n",
      "\n",
      "-f\n",
      "Processing -f\n"
     ]
    },
    {
     "ename": "ArgumentError",
     "evalue": "\"-f\": Could find file extension",
     "output_type": "error",
     "traceback": [
      "\u001b[1;31m---------------------------------------------------------------------------\u001b[0m",
      "\u001b[1;31mArgumentError\u001b[0m                             Traceback (most recent call last)",
      "\u001b[1;32m<ipython-input-4-d337d50cfcd0>\u001b[0m in \u001b[0;36m<module>\u001b[1;34m()\u001b[0m\n\u001b[0;32m     27\u001b[0m \u001b[1;33m\u001b[0m\u001b[0m\n\u001b[0;32m     28\u001b[0m \u001b[0mchannels_to_read\u001b[0m \u001b[1;33m=\u001b[0m \u001b[0mcmea_electrodes\u001b[0m\u001b[1;33m\u001b[0m\u001b[0m\n\u001b[1;32m---> 29\u001b[1;33m \u001b[0mall_channels\u001b[0m\u001b[1;33m,\u001b[0m \u001b[0manalog_channels\u001b[0m\u001b[1;33m,\u001b[0m \u001b[0msampling_rate\u001b[0m \u001b[1;33m=\u001b[0m \u001b[0mget_data\u001b[0m\u001b[1;33m(\u001b[0m\u001b[0mfull_file_path\u001b[0m\u001b[1;33m,\u001b[0m \u001b[0mchannels_to_read\u001b[0m\u001b[1;33m)\u001b[0m\u001b[1;33m\u001b[0m\u001b[0m\n\u001b[0m\u001b[0;32m     30\u001b[0m \u001b[1;33m\u001b[0m\u001b[0m\n\u001b[0;32m     31\u001b[0m \u001b[1;31m# print(len(analog_channels))\u001b[0m\u001b[1;33m\u001b[0m\u001b[1;33m\u001b[0m\u001b[0m\n",
      "\u001b[1;32m/home/max/Documents/HSL/HSL_Dev/hsl_lib/MCS_Functions.pyc\u001b[0m in \u001b[0;36mget_data\u001b[1;34m(full_file_path, channels_to_read)\u001b[0m\n\u001b[0;32m     17\u001b[0m \u001b[1;33m\u001b[0m\u001b[0m\n\u001b[0;32m     18\u001b[0m     \u001b[1;32mprint\u001b[0m \u001b[1;33m(\u001b[0m\u001b[1;34m\"Processing \"\u001b[0m \u001b[1;33m+\u001b[0m \u001b[0mfull_file_path\u001b[0m\u001b[1;33m)\u001b[0m\u001b[1;33m\u001b[0m\u001b[0m\n\u001b[1;32m---> 19\u001b[1;33m     \u001b[0mfd\u001b[0m \u001b[1;33m=\u001b[0m \u001b[0mns\u001b[0m\u001b[1;33m.\u001b[0m\u001b[0mFile\u001b[0m\u001b[1;33m(\u001b[0m\u001b[0mfull_file_path\u001b[0m\u001b[1;33m)\u001b[0m\u001b[1;33m\u001b[0m\u001b[0m\n\u001b[0m\u001b[0;32m     20\u001b[0m     \u001b[0msampling_rate\u001b[0m \u001b[1;33m=\u001b[0m \u001b[1;33m(\u001b[0m\u001b[1;36m1.0\u001b[0m\u001b[1;33m/\u001b[0m\u001b[0mfd\u001b[0m\u001b[1;33m.\u001b[0m\u001b[0mtime_stamp_resolution\u001b[0m\u001b[1;33m)\u001b[0m\u001b[1;33m\u001b[0m\u001b[0m\n\u001b[0;32m     21\u001b[0m     \u001b[1;32mprint\u001b[0m\u001b[1;33m(\u001b[0m\u001b[1;34m\"Sampling Rate: \"\u001b[0m \u001b[1;33m+\u001b[0m \u001b[0mstr\u001b[0m\u001b[1;33m(\u001b[0m\u001b[0msampling_rate\u001b[0m\u001b[1;33m)\u001b[0m\u001b[1;33m)\u001b[0m\u001b[1;33m\u001b[0m\u001b[0m\n",
      "\u001b[1;32m/home/max/anaconda2/lib/python2.7/site-packages/neuroshare-0.9.4-py2.7-linux-x86_64.egg/neuroshare/File.pyc\u001b[0m in \u001b[0;36m__init__\u001b[1;34m(self, filename, library)\u001b[0m\n\u001b[0;32m     36\u001b[0m         \u001b[0mself\u001b[0m\u001b[1;33m.\u001b[0m\u001b[0m_filename\u001b[0m \u001b[1;33m=\u001b[0m \u001b[0mfilename\u001b[0m\u001b[1;33m\u001b[0m\u001b[0m\n\u001b[0;32m     37\u001b[0m         \u001b[1;32mif\u001b[0m \u001b[1;32mnot\u001b[0m \u001b[0mlibrary\u001b[0m\u001b[1;33m:\u001b[0m\u001b[1;33m\u001b[0m\u001b[0m\n\u001b[1;32m---> 38\u001b[1;33m             \u001b[0mlibrary\u001b[0m \u001b[1;33m=\u001b[0m \u001b[0mLibrary\u001b[0m\u001b[1;33m.\u001b[0m\u001b[0mfor_file\u001b[0m\u001b[1;33m(\u001b[0m\u001b[0mfilename\u001b[0m\u001b[1;33m)\u001b[0m\u001b[1;33m\u001b[0m\u001b[0m\n\u001b[0m\u001b[0;32m     39\u001b[0m \u001b[1;33m\u001b[0m\u001b[0m\n\u001b[0;32m     40\u001b[0m         \u001b[0mself\u001b[0m\u001b[1;33m.\u001b[0m\u001b[0m_lib\u001b[0m \u001b[1;33m=\u001b[0m \u001b[0mlibrary\u001b[0m\u001b[1;33m\u001b[0m\u001b[0m\n",
      "\u001b[1;32m/home/max/anaconda2/lib/python2.7/site-packages/neuroshare-0.9.4-py2.7-linux-x86_64.egg/neuroshare/Library.pyc\u001b[0m in \u001b[0;36mfor_file\u001b[1;34m(cls, filename)\u001b[0m\n\u001b[0;32m     99\u001b[0m     \u001b[1;33m@\u001b[0m\u001b[0mclassmethod\u001b[0m\u001b[1;33m\u001b[0m\u001b[0m\n\u001b[0;32m    100\u001b[0m     \u001b[1;32mdef\u001b[0m \u001b[0mfor_file\u001b[0m\u001b[1;33m(\u001b[0m\u001b[0mcls\u001b[0m\u001b[1;33m,\u001b[0m \u001b[0mfilename\u001b[0m\u001b[1;33m)\u001b[0m\u001b[1;33m:\u001b[0m\u001b[1;33m\u001b[0m\u001b[0m\n\u001b[1;32m--> 101\u001b[1;33m         \u001b[1;33m(\u001b[0m\u001b[0mname\u001b[0m\u001b[1;33m,\u001b[0m \u001b[0mpath\u001b[0m\u001b[1;33m)\u001b[0m \u001b[1;33m=\u001b[0m \u001b[0mfind_library_for_file\u001b[0m\u001b[1;33m(\u001b[0m\u001b[0mfilename\u001b[0m\u001b[1;33m)\u001b[0m\u001b[1;33m\u001b[0m\u001b[0m\n\u001b[0m\u001b[0;32m    102\u001b[0m         \u001b[1;32mif\u001b[0m \u001b[0mname\u001b[0m \u001b[1;32mnot\u001b[0m \u001b[1;32min\u001b[0m \u001b[0mcls\u001b[0m\u001b[1;33m.\u001b[0m\u001b[0m_loaded_libs\u001b[0m\u001b[1;33m:\u001b[0m\u001b[1;33m\u001b[0m\u001b[0m\n\u001b[0;32m    103\u001b[0m             \u001b[0mlib\u001b[0m \u001b[1;33m=\u001b[0m \u001b[0mLibrary\u001b[0m\u001b[1;33m(\u001b[0m\u001b[0mname\u001b[0m\u001b[1;33m,\u001b[0m \u001b[0mpath\u001b[0m\u001b[1;33m)\u001b[0m\u001b[1;33m\u001b[0m\u001b[0m\n",
      "\u001b[1;32m/home/max/anaconda2/lib/python2.7/site-packages/neuroshare-0.9.4-py2.7-linux-x86_64.egg/neuroshare/Library.pyc\u001b[0m in \u001b[0;36mfind_library_for_file\u001b[1;34m(filename)\u001b[0m\n\u001b[0;32m     68\u001b[0m     \u001b[1;33m(\u001b[0m\u001b[0mroot\u001b[0m\u001b[1;33m,\u001b[0m \u001b[0mext\u001b[0m\u001b[1;33m)\u001b[0m \u001b[1;33m=\u001b[0m \u001b[0mos\u001b[0m\u001b[1;33m.\u001b[0m\u001b[0mpath\u001b[0m\u001b[1;33m.\u001b[0m\u001b[0msplitext\u001b[0m\u001b[1;33m(\u001b[0m\u001b[0mfilename\u001b[0m\u001b[1;33m)\u001b[0m\u001b[1;33m\u001b[0m\u001b[0m\n\u001b[0;32m     69\u001b[0m     \u001b[1;32mif\u001b[0m \u001b[1;32mnot\u001b[0m \u001b[0mext\u001b[0m \u001b[1;32mor\u001b[0m \u001b[1;32mnot\u001b[0m \u001b[0mext\u001b[0m\u001b[1;33m.\u001b[0m\u001b[0mstartswith\u001b[0m\u001b[1;33m(\u001b[0m\u001b[1;34m'.'\u001b[0m\u001b[1;33m)\u001b[0m\u001b[1;33m:\u001b[0m\u001b[1;33m\u001b[0m\u001b[0m\n\u001b[1;32m---> 70\u001b[1;33m         \u001b[1;32mraise\u001b[0m \u001b[0mArgumentError\u001b[0m\u001b[1;33m(\u001b[0m\u001b[0mfilename\u001b[0m\u001b[1;33m,\u001b[0m \u001b[1;34m\"Could find file extension\"\u001b[0m\u001b[1;33m)\u001b[0m\u001b[1;33m\u001b[0m\u001b[0m\n\u001b[0m\u001b[0;32m     71\u001b[0m \u001b[1;33m\u001b[0m\u001b[0m\n\u001b[0;32m     72\u001b[0m     \u001b[0mext\u001b[0m \u001b[1;33m=\u001b[0m \u001b[0mext\u001b[0m\u001b[1;33m[\u001b[0m\u001b[1;36m1\u001b[0m\u001b[1;33m:\u001b[0m\u001b[1;33m]\u001b[0m\u001b[1;33m\u001b[0m\u001b[0m\n",
      "\u001b[1;31mArgumentError\u001b[0m: \"-f\": Could find file extension"
     ]
    }
   ],
   "source": [
    "\"\"\"\n",
    "This script analyzes cardiac cultures on cMEAs, returning their conduction velocity. \n",
    "The file name is currently specified in the code itself - future releases will enable the user to analyze files as command line arguments.\n",
    "\n",
    "Example usage:\n",
    "    $ python CV_dev.py\n",
    "\"\"\"\n",
    "\n",
    "print(\"Importing Libraries...\\n\")\n",
    "import os, time, math, sys\n",
    "import matplotlib.pyplot as plt \n",
    "import numpy as np\n",
    "from hsl_lib.MCS_Objects import CV_Region_Selector\n",
    "from hsl_lib.MCS_Functions import get_data, plot_mea_waveforms, plot_cmea_waveforms, get_channels_to_compare, get_spike_time_differences\n",
    "\n",
    "#if len(sys.argv) > 1:\n",
    "#    full_file_path = str(sys.argv[1])\n",
    "#else: \n",
    "full_file_path = '-600 p31.mcd'\n",
    "    \n",
    "print(full_file_path)\n",
    "\n",
    "cmea_electrodes = [61, 53, 52, 41, 44, 54, 51, 42, 43, 31]\n",
    "cmea_distances = [0.001 * x for x in range(0, len(cmea_electrodes))] # Electrodes are 1mm apart\n",
    "\n",
    "cmea_positions = []\n",
    "\n",
    "channels_to_read = cmea_electrodes\n",
    "all_channels, analog_channels, sampling_rate = get_data(full_file_path, channels_to_read)\n",
    "\n",
    "# print(len(analog_channels))\n",
    "# plt.plot(analog_channels[0].voltage_data)\n",
    "# plt.show()\n",
    "# a = raw_input(\" \")\n",
    "\n",
    "# print(\"Generating full-MEA waveform plots\")\n",
    "# plot_mea_waveforms(all_channels, full_file_path)\n",
    "\n",
    "\n",
    "plot_cmea_waveforms(all_channels, full_file_path)\n",
    "\n",
    "print(\"Please enter the two channels you would like to compare\")\n",
    "channels_to_compare_input = [int(x) for x in raw_input(\"---->>>> \").split()]\n",
    "channels_to_compare = get_channels_to_compare(all_channels, channels_to_compare_input)\n",
    "stim_channel = analog_channels[0]\n",
    "\n",
    "cv_region_selector = CV_Region_Selector(channels_to_compare, stim_channel)\n",
    "start_time, end_time = cv_region_selector.start_time, cv_region_selector.end_time\n",
    "\n",
    "#conduction_intervals = \n",
    "spike_time_differences = get_spike_time_differences(channels_to_compare, start_time, end_time)\n",
    "distance = cmea_distances[cmea_electrodes.index(channels_to_compare[0].channel_number)] - cmea_distances[cmea_electrodes.index(channels_to_compare[1].channel_number)]\n",
    "\n",
    "conduction_velocity_mean = distance / np.mean(spike_time_differences) \n",
    "\n",
    "print(\"Conduction Velocity Mean: \" + str(conduction_velocity_mean) + \" m/s\")"
   ]
  },
  {
   "cell_type": "code",
   "execution_count": null,
   "metadata": {
    "collapsed": true
   },
   "outputs": [],
   "source": []
  }
 ],
 "metadata": {
  "kernelspec": {
   "display_name": "Python 2",
   "language": "python",
   "name": "python2"
  },
  "language_info": {
   "codemirror_mode": {
    "name": "ipython",
    "version": 2
   },
   "file_extension": ".py",
   "mimetype": "text/x-python",
   "name": "python",
   "nbconvert_exporter": "python",
   "pygments_lexer": "ipython2",
   "version": "2.7.11"
  }
 },
 "nbformat": 4,
 "nbformat_minor": 0
}
